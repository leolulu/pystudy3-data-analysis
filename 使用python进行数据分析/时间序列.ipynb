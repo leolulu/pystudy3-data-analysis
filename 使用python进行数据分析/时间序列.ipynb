{
 "cells": [
  {
   "cell_type": "code",
   "execution_count": 11,
   "metadata": {},
   "outputs": [],
   "source": [
    "from datetime import datetime"
   ]
  },
  {
   "cell_type": "code",
   "execution_count": 12,
   "metadata": {},
   "outputs": [],
   "source": [
    "from dateutil.parser import parse"
   ]
  },
  {
   "cell_type": "code",
   "execution_count": 13,
   "metadata": {},
   "outputs": [],
   "source": [
    "import pandas as pd\n",
    "import numpy as np"
   ]
  },
  {
   "cell_type": "code",
   "execution_count": 14,
   "metadata": {},
   "outputs": [],
   "source": [
    "a = datetime.now()"
   ]
  },
  {
   "cell_type": "code",
   "execution_count": 15,
   "metadata": {},
   "outputs": [
    {
     "data": {
      "text/plain": [
       "datetime.datetime(2018, 11, 12, 17, 58, 6, 766026)"
      ]
     },
     "execution_count": 15,
     "metadata": {},
     "output_type": "execute_result"
    }
   ],
   "source": [
    "a"
   ]
  },
  {
   "cell_type": "code",
   "execution_count": 16,
   "metadata": {},
   "outputs": [
    {
     "data": {
      "text/plain": [
       "'2018-11-12 17:58:06.766026'"
      ]
     },
     "execution_count": 16,
     "metadata": {},
     "output_type": "execute_result"
    }
   ],
   "source": [
    "str(a)"
   ]
  },
  {
   "cell_type": "code",
   "execution_count": 17,
   "metadata": {},
   "outputs": [
    {
     "data": {
      "text/plain": [
       "'2018-11-12 17:58:06'"
      ]
     },
     "execution_count": 17,
     "metadata": {},
     "output_type": "execute_result"
    }
   ],
   "source": [
    "a.strftime('%F %X')"
   ]
  },
  {
   "cell_type": "code",
   "execution_count": 18,
   "metadata": {},
   "outputs": [],
   "source": [
    "time_str = '2018-11-12 12:07:12'"
   ]
  },
  {
   "cell_type": "code",
   "execution_count": 19,
   "metadata": {},
   "outputs": [
    {
     "data": {
      "text/plain": [
       "datetime.datetime(2018, 11, 12, 12, 7, 12)"
      ]
     },
     "execution_count": 19,
     "metadata": {},
     "output_type": "execute_result"
    }
   ],
   "source": [
    "datetime.strptime(time_str,'%Y-%m-%d %H:%M:%S')"
   ]
  },
  {
   "cell_type": "code",
   "execution_count": 20,
   "metadata": {},
   "outputs": [
    {
     "data": {
      "text/plain": [
       "datetime.datetime(2018, 11, 12, 12, 59, 42)"
      ]
     },
     "execution_count": 20,
     "metadata": {},
     "output_type": "execute_result"
    }
   ],
   "source": [
    "parse('2018:11:15 12:59:42')"
   ]
  },
  {
   "cell_type": "code",
   "execution_count": 21,
   "metadata": {},
   "outputs": [],
   "source": [
    "datestrs = ['2011-07-06 12:00:00', '2011-08-06 00:00:00']"
   ]
  },
  {
   "cell_type": "code",
   "execution_count": 22,
   "metadata": {},
   "outputs": [],
   "source": [
    "a= pd.to_datetime(datestrs)"
   ]
  },
  {
   "cell_type": "code",
   "execution_count": 23,
   "metadata": {},
   "outputs": [
    {
     "data": {
      "text/plain": [
       "pandas.core.indexes.datetimes.DatetimeIndex"
      ]
     },
     "execution_count": 23,
     "metadata": {},
     "output_type": "execute_result"
    }
   ],
   "source": [
    "type(a)"
   ]
  },
  {
   "cell_type": "code",
   "execution_count": 24,
   "metadata": {},
   "outputs": [],
   "source": [
    "dates = [datetime(2011, 1, 2), datetime(2011, 1, 5),\n",
    "    datetime(2011, 1, 7), datetime(2011, 1, 8),\n",
    "    datetime(2011, 1, 10), datetime(2011, 1, 12)]"
   ]
  },
  {
   "cell_type": "code",
   "execution_count": 25,
   "metadata": {},
   "outputs": [],
   "source": [
    "ts = pd.Series(np.random.randn(6), index=dates)"
   ]
  },
  {
   "cell_type": "code",
   "execution_count": 26,
   "metadata": {},
   "outputs": [
    {
     "data": {
      "text/plain": [
       "2011-01-02   -0.240332\n",
       "2011-01-05    0.086389\n",
       "2011-01-07    1.215852\n",
       "2011-01-08   -1.115186\n",
       "2011-01-10    0.333962\n",
       "2011-01-12    1.243409\n",
       "dtype: float64"
      ]
     },
     "execution_count": 26,
     "metadata": {},
     "output_type": "execute_result"
    }
   ],
   "source": [
    "ts"
   ]
  },
  {
   "cell_type": "code",
   "execution_count": 27,
   "metadata": {},
   "outputs": [
    {
     "data": {
      "text/plain": [
       "DatetimeIndex(['2011-01-02', '2011-01-05', '2011-01-07', '2011-01-08',\n",
       "               '2011-01-10', '2011-01-12'],\n",
       "              dtype='datetime64[ns]', freq=None)"
      ]
     },
     "execution_count": 27,
     "metadata": {},
     "output_type": "execute_result"
    }
   ],
   "source": [
    "ts.index"
   ]
  },
  {
   "cell_type": "code",
   "execution_count": 28,
   "metadata": {},
   "outputs": [
    {
     "data": {
      "text/plain": [
       "'2011-01-05 00:00:00'"
      ]
     },
     "execution_count": 28,
     "metadata": {},
     "output_type": "execute_result"
    }
   ],
   "source": [
    "(ts.index[1]).strftime('%F %X')"
   ]
  },
  {
   "cell_type": "code",
   "execution_count": 29,
   "metadata": {},
   "outputs": [
    {
     "data": {
      "text/plain": [
       "1.2434091345697649"
      ]
     },
     "execution_count": 29,
     "metadata": {},
     "output_type": "execute_result"
    }
   ],
   "source": [
    "ts['20110112']"
   ]
  },
  {
   "cell_type": "code",
   "execution_count": 30,
   "metadata": {},
   "outputs": [],
   "source": [
    "longer_ts = pd.Series(np.random.randint(1,100,1000),\n",
    "             index=pd.date_range('1/1/2000', periods=1000))"
   ]
  },
  {
   "cell_type": "code",
   "execution_count": 31,
   "metadata": {},
   "outputs": [
    {
     "data": {
      "text/plain": [
       "2000-01-01    94\n",
       "2000-01-02    54\n",
       "2000-01-03     5\n",
       "2000-01-04     7\n",
       "2000-01-05    20\n",
       "2000-01-06     3\n",
       "2000-01-07    55\n",
       "2000-01-08    54\n",
       "2000-01-09    26\n",
       "2000-01-10    57\n",
       "2000-01-11    98\n",
       "2000-01-12    88\n",
       "2000-01-13    37\n",
       "2000-01-14    97\n",
       "2000-01-15    84\n",
       "2000-01-16    56\n",
       "2000-01-17    56\n",
       "2000-01-18    16\n",
       "2000-01-19    92\n",
       "2000-01-20    63\n",
       "2000-01-21    55\n",
       "2000-01-22    25\n",
       "2000-01-23    65\n",
       "2000-01-24    80\n",
       "2000-01-25    74\n",
       "2000-01-26    41\n",
       "2000-01-27    27\n",
       "2000-01-28    26\n",
       "2000-01-29    13\n",
       "2000-01-30    83\n",
       "              ..\n",
       "2002-08-28    88\n",
       "2002-08-29    30\n",
       "2002-08-30    51\n",
       "2002-08-31    79\n",
       "2002-09-01    65\n",
       "2002-09-02    86\n",
       "2002-09-03    26\n",
       "2002-09-04    60\n",
       "2002-09-05    73\n",
       "2002-09-06    14\n",
       "2002-09-07    59\n",
       "2002-09-08    31\n",
       "2002-09-09    58\n",
       "2002-09-10    63\n",
       "2002-09-11    88\n",
       "2002-09-12    36\n",
       "2002-09-13    57\n",
       "2002-09-14    68\n",
       "2002-09-15    40\n",
       "2002-09-16    65\n",
       "2002-09-17     6\n",
       "2002-09-18    43\n",
       "2002-09-19    35\n",
       "2002-09-20    86\n",
       "2002-09-21    79\n",
       "2002-09-22    61\n",
       "2002-09-23    52\n",
       "2002-09-24    48\n",
       "2002-09-25    44\n",
       "2002-09-26    64\n",
       "Freq: D, Length: 1000, dtype: int32"
      ]
     },
     "execution_count": 31,
     "metadata": {},
     "output_type": "execute_result"
    }
   ],
   "source": [
    "longer_ts"
   ]
  },
  {
   "cell_type": "code",
   "execution_count": 32,
   "metadata": {},
   "outputs": [
    {
     "data": {
      "text/plain": [
       "2002-01-15     8\n",
       "2002-01-16    10\n",
       "2002-01-17    73\n",
       "2002-01-18     4\n",
       "2002-01-19    23\n",
       "2002-01-20    14\n",
       "2002-01-21    75\n",
       "2002-01-22    36\n",
       "2002-01-23    87\n",
       "2002-01-24    82\n",
       "2002-01-25    10\n",
       "Freq: D, dtype: int32"
      ]
     },
     "execution_count": 32,
     "metadata": {},
     "output_type": "execute_result"
    }
   ],
   "source": [
    "longer_ts['2002-01-15':'2002-01-25']"
   ]
  },
  {
   "cell_type": "code",
   "execution_count": 33,
   "metadata": {},
   "outputs": [
    {
     "data": {
      "text/plain": [
       "2011-01-08   -1.115186\n",
       "2011-01-10    0.333962\n",
       "2011-01-12    1.243409\n",
       "dtype: float64"
      ]
     },
     "execution_count": 33,
     "metadata": {},
     "output_type": "execute_result"
    }
   ],
   "source": [
    "ts['2011-01-08':]"
   ]
  },
  {
   "cell_type": "code",
   "execution_count": 34,
   "metadata": {},
   "outputs": [
    {
     "data": {
      "text/plain": [
       "2000-01-01    94\n",
       "2000-01-02    54\n",
       "2000-01-03     5\n",
       "2000-01-04     7\n",
       "2000-01-05    20\n",
       "2000-01-06     3\n",
       "2000-01-07    55\n",
       "2000-01-08    54\n",
       "2000-01-09    26\n",
       "2000-01-10    57\n",
       "2000-01-11    98\n",
       "2000-01-12    88\n",
       "2000-01-13    37\n",
       "2000-01-14    97\n",
       "2000-01-15    84\n",
       "2000-01-16    56\n",
       "2000-01-17    56\n",
       "2000-01-18    16\n",
       "2000-01-19    92\n",
       "2000-01-20    63\n",
       "2000-01-21    55\n",
       "2000-01-22    25\n",
       "2000-01-23    65\n",
       "2000-01-24    80\n",
       "2000-01-25    74\n",
       "2000-01-26    41\n",
       "2000-01-27    27\n",
       "2000-01-28    26\n",
       "2000-01-29    13\n",
       "2000-01-30    83\n",
       "              ..\n",
       "2002-08-28    88\n",
       "2002-08-29    30\n",
       "2002-08-30    51\n",
       "2002-08-31    79\n",
       "2002-09-01    65\n",
       "2002-09-02    86\n",
       "2002-09-03    26\n",
       "2002-09-04    60\n",
       "2002-09-05    73\n",
       "2002-09-06    14\n",
       "2002-09-07    59\n",
       "2002-09-08    31\n",
       "2002-09-09    58\n",
       "2002-09-10    63\n",
       "2002-09-11    88\n",
       "2002-09-12    36\n",
       "2002-09-13    57\n",
       "2002-09-14    68\n",
       "2002-09-15    40\n",
       "2002-09-16    65\n",
       "2002-09-17     6\n",
       "2002-09-18    43\n",
       "2002-09-19    35\n",
       "2002-09-20    86\n",
       "2002-09-21    79\n",
       "2002-09-22    61\n",
       "2002-09-23    52\n",
       "2002-09-24    48\n",
       "2002-09-25    44\n",
       "2002-09-26    64\n",
       "Freq: D, Length: 1000, dtype: int32"
      ]
     },
     "execution_count": 34,
     "metadata": {},
     "output_type": "execute_result"
    }
   ],
   "source": [
    "longer_ts"
   ]
  },
  {
   "cell_type": "code",
   "execution_count": 35,
   "metadata": {},
   "outputs": [
    {
     "data": {
      "text/plain": [
       "2002-09-20    86\n",
       "2002-09-21    79\n",
       "2002-09-22    61\n",
       "2002-09-23    52\n",
       "2002-09-24    48\n",
       "2002-09-25    44\n",
       "2002-09-26    64\n",
       "Freq: D, dtype: int32"
      ]
     },
     "execution_count": 35,
     "metadata": {},
     "output_type": "execute_result"
    }
   ],
   "source": [
    "longer_ts['2002-09-20':'2018-01-01']"
   ]
  },
  {
   "cell_type": "code",
   "execution_count": 36,
   "metadata": {},
   "outputs": [
    {
     "data": {
      "text/plain": [
       "DatetimeIndex(['2017-11-12 00:00:00', '2017-11-12 13:00:00',\n",
       "               '2017-11-13 02:00:00', '2017-11-13 15:00:00',\n",
       "               '2017-11-14 04:00:00', '2017-11-14 17:00:00'],\n",
       "              dtype='datetime64[ns]', freq='13H')"
      ]
     },
     "execution_count": 36,
     "metadata": {},
     "output_type": "execute_result"
    }
   ],
   "source": [
    "pd.date_range('2017-11-12','2017-11-15',freq='13H')"
   ]
  },
  {
   "cell_type": "code",
   "execution_count": 37,
   "metadata": {},
   "outputs": [],
   "source": [
    "dates = pd.date_range('2018-11-12', periods=100, freq='W-WED')"
   ]
  },
  {
   "cell_type": "code",
   "execution_count": 38,
   "metadata": {},
   "outputs": [
    {
     "data": {
      "text/plain": [
       "DatetimeIndex(['2018-11-14', '2018-11-21', '2018-11-28', '2018-12-05',\n",
       "               '2018-12-12', '2018-12-19', '2018-12-26', '2019-01-02',\n",
       "               '2019-01-09', '2019-01-16', '2019-01-23', '2019-01-30',\n",
       "               '2019-02-06', '2019-02-13', '2019-02-20', '2019-02-27',\n",
       "               '2019-03-06', '2019-03-13', '2019-03-20', '2019-03-27',\n",
       "               '2019-04-03', '2019-04-10', '2019-04-17', '2019-04-24',\n",
       "               '2019-05-01', '2019-05-08', '2019-05-15', '2019-05-22',\n",
       "               '2019-05-29', '2019-06-05', '2019-06-12', '2019-06-19',\n",
       "               '2019-06-26', '2019-07-03', '2019-07-10', '2019-07-17',\n",
       "               '2019-07-24', '2019-07-31', '2019-08-07', '2019-08-14',\n",
       "               '2019-08-21', '2019-08-28', '2019-09-04', '2019-09-11',\n",
       "               '2019-09-18', '2019-09-25', '2019-10-02', '2019-10-09',\n",
       "               '2019-10-16', '2019-10-23', '2019-10-30', '2019-11-06',\n",
       "               '2019-11-13', '2019-11-20', '2019-11-27', '2019-12-04',\n",
       "               '2019-12-11', '2019-12-18', '2019-12-25', '2020-01-01',\n",
       "               '2020-01-08', '2020-01-15', '2020-01-22', '2020-01-29',\n",
       "               '2020-02-05', '2020-02-12', '2020-02-19', '2020-02-26',\n",
       "               '2020-03-04', '2020-03-11', '2020-03-18', '2020-03-25',\n",
       "               '2020-04-01', '2020-04-08', '2020-04-15', '2020-04-22',\n",
       "               '2020-04-29', '2020-05-06', '2020-05-13', '2020-05-20',\n",
       "               '2020-05-27', '2020-06-03', '2020-06-10', '2020-06-17',\n",
       "               '2020-06-24', '2020-07-01', '2020-07-08', '2020-07-15',\n",
       "               '2020-07-22', '2020-07-29', '2020-08-05', '2020-08-12',\n",
       "               '2020-08-19', '2020-08-26', '2020-09-02', '2020-09-09',\n",
       "               '2020-09-16', '2020-09-23', '2020-09-30', '2020-10-07'],\n",
       "              dtype='datetime64[ns]', freq='W-WED')"
      ]
     },
     "execution_count": 38,
     "metadata": {},
     "output_type": "execute_result"
    }
   ],
   "source": [
    "dates"
   ]
  },
  {
   "cell_type": "code",
   "execution_count": 39,
   "metadata": {},
   "outputs": [],
   "source": [
    "long_df = pd.DataFrame(np.random.randint(1,100,size=(100,4)),\n",
    "                        index=dates,\n",
    "                        columns=['Colorado', 'Texas',\n",
    "                                 'New York', 'Ohio'])"
   ]
  },
  {
   "cell_type": "code",
   "execution_count": 40,
   "metadata": {},
   "outputs": [
    {
     "data": {
      "text/html": [
       "<div>\n",
       "<style scoped>\n",
       "    .dataframe tbody tr th:only-of-type {\n",
       "        vertical-align: middle;\n",
       "    }\n",
       "\n",
       "    .dataframe tbody tr th {\n",
       "        vertical-align: top;\n",
       "    }\n",
       "\n",
       "    .dataframe thead th {\n",
       "        text-align: right;\n",
       "    }\n",
       "</style>\n",
       "<table border=\"1\" class=\"dataframe\">\n",
       "  <thead>\n",
       "    <tr style=\"text-align: right;\">\n",
       "      <th></th>\n",
       "      <th>Colorado</th>\n",
       "      <th>Texas</th>\n",
       "      <th>New York</th>\n",
       "      <th>Ohio</th>\n",
       "    </tr>\n",
       "  </thead>\n",
       "  <tbody>\n",
       "    <tr>\n",
       "      <th>2018-12-05</th>\n",
       "      <td>21</td>\n",
       "      <td>58</td>\n",
       "      <td>99</td>\n",
       "      <td>51</td>\n",
       "    </tr>\n",
       "    <tr>\n",
       "      <th>2018-12-12</th>\n",
       "      <td>75</td>\n",
       "      <td>27</td>\n",
       "      <td>46</td>\n",
       "      <td>47</td>\n",
       "    </tr>\n",
       "    <tr>\n",
       "      <th>2018-12-19</th>\n",
       "      <td>82</td>\n",
       "      <td>67</td>\n",
       "      <td>64</td>\n",
       "      <td>30</td>\n",
       "    </tr>\n",
       "    <tr>\n",
       "      <th>2018-12-26</th>\n",
       "      <td>13</td>\n",
       "      <td>95</td>\n",
       "      <td>95</td>\n",
       "      <td>54</td>\n",
       "    </tr>\n",
       "  </tbody>\n",
       "</table>\n",
       "</div>"
      ],
      "text/plain": [
       "            Colorado  Texas  New York  Ohio\n",
       "2018-12-05        21     58        99    51\n",
       "2018-12-12        75     27        46    47\n",
       "2018-12-19        82     67        64    30\n",
       "2018-12-26        13     95        95    54"
      ]
     },
     "execution_count": 40,
     "metadata": {},
     "output_type": "execute_result"
    }
   ],
   "source": [
    "long_df['2018-12']"
   ]
  },
  {
   "cell_type": "code",
   "execution_count": 42,
   "metadata": {},
   "outputs": [
    {
     "data": {
      "text/plain": [
       "2011-01-02   -0.240332\n",
       "2011-01-05    0.086389\n",
       "2011-01-07    1.215852\n",
       "2011-01-08   -1.115186\n",
       "2011-01-10    0.333962\n",
       "2011-01-12    1.243409\n",
       "dtype: float64"
      ]
     },
     "execution_count": 42,
     "metadata": {},
     "output_type": "execute_result"
    }
   ],
   "source": [
    "ts"
   ]
  },
  {
   "cell_type": "code",
   "execution_count": 43,
   "metadata": {},
   "outputs": [
    {
     "data": {
      "text/plain": [
       "DatetimeIndexResampler [freq=<Day>, axis=0, closed=left, label=left, convention=start, base=0]"
      ]
     },
     "execution_count": 43,
     "metadata": {},
     "output_type": "execute_result"
    }
   ],
   "source": [
    "ts.resample('D')"
   ]
  },
  {
   "cell_type": "code",
   "execution_count": null,
   "metadata": {},
   "outputs": [],
   "source": []
  },
  {
   "cell_type": "code",
   "execution_count": null,
   "metadata": {},
   "outputs": [],
   "source": []
  },
  {
   "cell_type": "code",
   "execution_count": null,
   "metadata": {},
   "outputs": [],
   "source": []
  }
 ],
 "metadata": {
  "kernelspec": {
   "display_name": "Python 3",
   "language": "python",
   "name": "python3"
  }
 },
 "nbformat": 4,
 "nbformat_minor": 2
}
