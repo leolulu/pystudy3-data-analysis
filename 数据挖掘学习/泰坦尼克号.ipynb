{
 "cells": [
  {
   "cell_type": "code",
   "execution_count": 1,
   "metadata": {},
   "outputs": [],
   "source": [
    "import pandas as pd\n",
    "import numpy as np\n",
    "from matplotlib import pyplot as plt\n",
    "import seaborn as sns\n",
    "import warnings\n",
    "\n",
    "plt.style.use('fivethirtyeight')\n",
    "# warnings.filterwarnings('ignore')"
   ]
  },
  {
   "cell_type": "code",
   "execution_count": 2,
   "metadata": {},
   "outputs": [],
   "source": [
    "pd.options.display.max_rows = 100\n",
    "pd.options.display.max_columns = 100"
   ]
  },
  {
   "cell_type": "code",
   "execution_count": 3,
   "metadata": {},
   "outputs": [],
   "source": [
    "train = pd.read_csv('./titanic/train.csv')"
   ]
  },
  {
   "cell_type": "code",
   "execution_count": 4,
   "metadata": {},
   "outputs": [
    {
     "data": {
      "text/html": [
       "<div>\n",
       "<style scoped>\n",
       "    .dataframe tbody tr th:only-of-type {\n",
       "        vertical-align: middle;\n",
       "    }\n",
       "\n",
       "    .dataframe tbody tr th {\n",
       "        vertical-align: top;\n",
       "    }\n",
       "\n",
       "    .dataframe thead th {\n",
       "        text-align: right;\n",
       "    }\n",
       "</style>\n",
       "<table border=\"1\" class=\"dataframe\">\n",
       "  <thead>\n",
       "    <tr style=\"text-align: right;\">\n",
       "      <th></th>\n",
       "      <th>PassengerId</th>\n",
       "      <th>Survived</th>\n",
       "      <th>Pclass</th>\n",
       "      <th>Name</th>\n",
       "      <th>Sex</th>\n",
       "      <th>Age</th>\n",
       "      <th>SibSp</th>\n",
       "      <th>Parch</th>\n",
       "      <th>Ticket</th>\n",
       "      <th>Fare</th>\n",
       "      <th>Cabin</th>\n",
       "      <th>Embarked</th>\n",
       "    </tr>\n",
       "  </thead>\n",
       "  <tbody>\n",
       "    <tr>\n",
       "      <th>0</th>\n",
       "      <td>1</td>\n",
       "      <td>0</td>\n",
       "      <td>3</td>\n",
       "      <td>Braund, Mr. Owen Harris</td>\n",
       "      <td>male</td>\n",
       "      <td>22.0</td>\n",
       "      <td>1</td>\n",
       "      <td>0</td>\n",
       "      <td>A/5 21171</td>\n",
       "      <td>7.2500</td>\n",
       "      <td>NaN</td>\n",
       "      <td>S</td>\n",
       "    </tr>\n",
       "    <tr>\n",
       "      <th>1</th>\n",
       "      <td>2</td>\n",
       "      <td>1</td>\n",
       "      <td>1</td>\n",
       "      <td>Cumings, Mrs. John Bradley (Florence Briggs Th...</td>\n",
       "      <td>female</td>\n",
       "      <td>38.0</td>\n",
       "      <td>1</td>\n",
       "      <td>0</td>\n",
       "      <td>PC 17599</td>\n",
       "      <td>71.2833</td>\n",
       "      <td>C85</td>\n",
       "      <td>C</td>\n",
       "    </tr>\n",
       "    <tr>\n",
       "      <th>2</th>\n",
       "      <td>3</td>\n",
       "      <td>1</td>\n",
       "      <td>3</td>\n",
       "      <td>Heikkinen, Miss. Laina</td>\n",
       "      <td>female</td>\n",
       "      <td>26.0</td>\n",
       "      <td>0</td>\n",
       "      <td>0</td>\n",
       "      <td>STON/O2. 3101282</td>\n",
       "      <td>7.9250</td>\n",
       "      <td>NaN</td>\n",
       "      <td>S</td>\n",
       "    </tr>\n",
       "    <tr>\n",
       "      <th>3</th>\n",
       "      <td>4</td>\n",
       "      <td>1</td>\n",
       "      <td>1</td>\n",
       "      <td>Futrelle, Mrs. Jacques Heath (Lily May Peel)</td>\n",
       "      <td>female</td>\n",
       "      <td>35.0</td>\n",
       "      <td>1</td>\n",
       "      <td>0</td>\n",
       "      <td>113803</td>\n",
       "      <td>53.1000</td>\n",
       "      <td>C123</td>\n",
       "      <td>S</td>\n",
       "    </tr>\n",
       "    <tr>\n",
       "      <th>4</th>\n",
       "      <td>5</td>\n",
       "      <td>0</td>\n",
       "      <td>3</td>\n",
       "      <td>Allen, Mr. William Henry</td>\n",
       "      <td>male</td>\n",
       "      <td>35.0</td>\n",
       "      <td>0</td>\n",
       "      <td>0</td>\n",
       "      <td>373450</td>\n",
       "      <td>8.0500</td>\n",
       "      <td>NaN</td>\n",
       "      <td>S</td>\n",
       "    </tr>\n",
       "  </tbody>\n",
       "</table>\n",
       "</div>"
      ],
      "text/plain": [
       "   PassengerId  Survived  Pclass  \\\n",
       "0            1         0       3   \n",
       "1            2         1       1   \n",
       "2            3         1       3   \n",
       "3            4         1       1   \n",
       "4            5         0       3   \n",
       "\n",
       "                                                Name     Sex   Age  SibSp  \\\n",
       "0                            Braund, Mr. Owen Harris    male  22.0      1   \n",
       "1  Cumings, Mrs. John Bradley (Florence Briggs Th...  female  38.0      1   \n",
       "2                             Heikkinen, Miss. Laina  female  26.0      0   \n",
       "3       Futrelle, Mrs. Jacques Heath (Lily May Peel)  female  35.0      1   \n",
       "4                           Allen, Mr. William Henry    male  35.0      0   \n",
       "\n",
       "   Parch            Ticket     Fare Cabin Embarked  \n",
       "0      0         A/5 21171   7.2500   NaN        S  \n",
       "1      0          PC 17599  71.2833   C85        C  \n",
       "2      0  STON/O2. 3101282   7.9250   NaN        S  \n",
       "3      0            113803  53.1000  C123        S  \n",
       "4      0            373450   8.0500   NaN        S  "
      ]
     },
     "execution_count": 4,
     "metadata": {},
     "output_type": "execute_result"
    }
   ],
   "source": [
    "train[:5]"
   ]
  },
  {
   "cell_type": "code",
   "execution_count": 5,
   "metadata": {},
   "outputs": [
    {
     "data": {
      "text/plain": [
       "PassengerId      0\n",
       "Survived         0\n",
       "Pclass           0\n",
       "Name             0\n",
       "Sex              0\n",
       "Age            177\n",
       "SibSp            0\n",
       "Parch            0\n",
       "Ticket           0\n",
       "Fare             0\n",
       "Cabin          687\n",
       "Embarked         2\n",
       "dtype: int64"
      ]
     },
     "execution_count": 5,
     "metadata": {},
     "output_type": "execute_result"
    }
   ],
   "source": [
    "train.isnull().sum()"
   ]
  },
  {
   "cell_type": "code",
   "execution_count": 6,
   "metadata": {},
   "outputs": [
    {
     "data": {
      "text/plain": [
       "0    549\n",
       "1    342\n",
       "Name: Survived, dtype: int64"
      ]
     },
     "execution_count": 6,
     "metadata": {},
     "output_type": "execute_result"
    }
   ],
   "source": [
    "train['Survived'].value_counts()"
   ]
  },
  {
   "cell_type": "code",
   "execution_count": 7,
   "metadata": {},
   "outputs": [
    {
     "data": {
      "image/png": "[encoded data removed]",
      "text/plain": [
       "<Figure size 936x576 with 2 Axes>"
      ]
     },
     "metadata": {},
     "output_type": "display_data"
    }
   ],
   "source": [
    "f,ax = plt.subplots(1,2,figsize=(13,8))\n",
    "train.groupby('Survived')['Survived'].count().plot.pie(ax=ax[0],autopct='%1.1f%%',explode=[0,0.1],shadow=True)\n",
    "sns.countplot('Survived',data = train,ax=ax[1])\n",
    "plt.show()"
   ]
  },
  {
   "cell_type": "code",
   "execution_count": 8,
   "metadata": {},
   "outputs": [],
   "source": [
    "train.groupby(['Sex','Survived'])['Survived','Age'].count().to_excel('./groupby.xlsx')"
   ]
  },
  {
   "cell_type": "code",
   "execution_count": 9,
   "metadata": {},
   "outputs": [
    {
     "data": {
      "image/png": "[encoded data removed]",
      "text/plain": [
       "<Figure size 576x720 with 2 Axes>"
      ]
     },
     "metadata": {},
     "output_type": "display_data"
    }
   ],
   "source": [
    "f,ax = plt.subplots(2,1,figsize=(8,10))\n",
    "train.groupby(['Sex'])['Survived'].mean().plot.bar(ax=ax[1])\n",
    "ax[1].set_title('Sruvived vs Sex')\n",
    "sns.countplot('Sex',hue='Survived',data=train,ax=ax[0])\n",
    "ax[0].set_title('Sex:Survived vs Dead')\n",
    "plt.show()"
   ]
  },
  {
   "cell_type": "code",
   "execution_count": 10,
   "metadata": {},
   "outputs": [
    {
     "data": {
      "text/html": [
       "<style  type=\"text/css\" >\n",
       "    #T_193b235e_fc21_11e8_81dc_001a7dda7106row0_col0 {\n",
       "            background-color:  #ffff66;\n",
       "        }    #T_193b235e_fc21_11e8_81dc_001a7dda7106row0_col1 {\n",
       "            background-color:  #008066;\n",
       "        }    #T_193b235e_fc21_11e8_81dc_001a7dda7106row1_col0 {\n",
       "            background-color:  #fdfe66;\n",
       "        }    #T_193b235e_fc21_11e8_81dc_001a7dda7106row1_col1 {\n",
       "            background-color:  #48a366;\n",
       "        }    #T_193b235e_fc21_11e8_81dc_001a7dda7106row2_col0 {\n",
       "            background-color:  #c4e266;\n",
       "        }    #T_193b235e_fc21_11e8_81dc_001a7dda7106row2_col1 {\n",
       "            background-color:  #41a066;\n",
       "        }    #T_193b235e_fc21_11e8_81dc_001a7dda7106row3_col0 {\n",
       "            background-color:  #c0e066;\n",
       "        }    #T_193b235e_fc21_11e8_81dc_001a7dda7106row3_col1 {\n",
       "            background-color:  #9fcf66;\n",
       "        }    #T_193b235e_fc21_11e8_81dc_001a7dda7106row4_col0 {\n",
       "            background-color:  #b4da66;\n",
       "        }    #T_193b235e_fc21_11e8_81dc_001a7dda7106row4_col1 {\n",
       "            background-color:  #ffff66;\n",
       "        }    #T_193b235e_fc21_11e8_81dc_001a7dda7106row5_col0 {\n",
       "            background-color:  #008066;\n",
       "        }    #T_193b235e_fc21_11e8_81dc_001a7dda7106row5_col1 {\n",
       "            background-color:  #98cc66;\n",
       "        }</style>  \n",
       "<table id=\"T_193b235e_fc21_11e8_81dc_001a7dda7106\" > \n",
       "<thead>    <tr> \n",
       "        <th class=\"blank\" ></th> \n",
       "        <th class=\"index_name level0\" >Survived</th> \n",
       "        <th class=\"col_heading level0 col0\" >0</th> \n",
       "        <th class=\"col_heading level0 col1\" >1</th> \n",
       "    </tr>    <tr> \n",
       "        <th class=\"index_name level0\" >Sex</th> \n",
       "        <th class=\"index_name level1\" >Pclass</th> \n",
       "        <th class=\"blank\" ></th> \n",
       "        <th class=\"blank\" ></th> \n",
       "    </tr></thead> \n",
       "<tbody>    <tr> \n",
       "        <th id=\"T_193b235e_fc21_11e8_81dc_001a7dda7106level0_row0\" class=\"row_heading level0 row0\" rowspan=3>female</th> \n",
       "        <th id=\"T_193b235e_fc21_11e8_81dc_001a7dda7106level1_row0\" class=\"row_heading level1 row0\" >1</th> \n",
       "        <td id=\"T_193b235e_fc21_11e8_81dc_001a7dda7106row0_col0\" class=\"data row0 col0\" >3</td> \n",
       "        <td id=\"T_193b235e_fc21_11e8_81dc_001a7dda7106row0_col1\" class=\"data row0 col1\" >91</td> \n",
       "    </tr>    <tr> \n",
       "        <th id=\"T_193b235e_fc21_11e8_81dc_001a7dda7106level1_row1\" class=\"row_heading level1 row1\" >2</th> \n",
       "        <td id=\"T_193b235e_fc21_11e8_81dc_001a7dda7106row1_col0\" class=\"data row1 col0\" >6</td> \n",
       "        <td id=\"T_193b235e_fc21_11e8_81dc_001a7dda7106row1_col1\" class=\"data row1 col1\" >70</td> \n",
       "    </tr>    <tr> \n",
       "        <th id=\"T_193b235e_fc21_11e8_81dc_001a7dda7106level1_row2\" class=\"row_heading level1 row2\" >3</th> \n",
       "        <td id=\"T_193b235e_fc21_11e8_81dc_001a7dda7106row2_col0\" class=\"data row2 col0\" >72</td> \n",
       "        <td id=\"T_193b235e_fc21_11e8_81dc_001a7dda7106row2_col1\" class=\"data row2 col1\" >72</td> \n",
       "    </tr>    <tr> \n",
       "        <th id=\"T_193b235e_fc21_11e8_81dc_001a7dda7106level0_row3\" class=\"row_heading level0 row3\" rowspan=3>male</th> \n",
       "        <th id=\"T_193b235e_fc21_11e8_81dc_001a7dda7106level1_row3\" class=\"row_heading level1 row3\" >1</th> \n",
       "        <td id=\"T_193b235e_fc21_11e8_81dc_001a7dda7106row3_col0\" class=\"data row3 col0\" >77</td> \n",
       "        <td id=\"T_193b235e_fc21_11e8_81dc_001a7dda7106row3_col1\" class=\"data row3 col1\" >45</td> \n",
       "    </tr>    <tr> \n",
       "        <th id=\"T_193b235e_fc21_11e8_81dc_001a7dda7106level1_row4\" class=\"row_heading level1 row4\" >2</th> \n",
       "        <td id=\"T_193b235e_fc21_11e8_81dc_001a7dda7106row4_col0\" class=\"data row4 col0\" >91</td> \n",
       "        <td id=\"T_193b235e_fc21_11e8_81dc_001a7dda7106row4_col1\" class=\"data row4 col1\" >17</td> \n",
       "    </tr>    <tr> \n",
       "        <th id=\"T_193b235e_fc21_11e8_81dc_001a7dda7106level1_row5\" class=\"row_heading level1 row5\" >3</th> \n",
       "        <td id=\"T_193b235e_fc21_11e8_81dc_001a7dda7106row5_col0\" class=\"data row5 col0\" >300</td> \n",
       "        <td id=\"T_193b235e_fc21_11e8_81dc_001a7dda7106row5_col1\" class=\"data row5 col1\" >47</td> \n",
       "    </tr></tbody> \n",
       "</table> "
      ],
      "text/plain": [
       "<pandas.io.formats.style.Styler at 0x25717d06518>"
      ]
     },
     "execution_count": 10,
     "metadata": {},
     "output_type": "execute_result"
    }
   ],
   "source": [
    "pd.crosstab([train.Sex,train.Pclass],train.Survived).style.background_gradient(cmap='summer_r')"
   ]
  },
  {
   "cell_type": "code",
   "execution_count": null,
   "metadata": {},
   "outputs": [],
   "source": [
    "pd.DataFrame(np.random.randint(1,100,[20,35])).style.background_gradient(cmap='summer')"
   ]
  },
  {
   "cell_type": "code",
   "execution_count": 23,
   "metadata": {},
   "outputs": [
    {
     "name": "stderr",
     "output_type": "stream",
     "text": [
      "d:\\Anaconda3\\lib\\site-packages\\scipy\\stats\\stats.py:1713: FutureWarning: Using a non-tuple sequence for multidimensional indexing is deprecated; use `arr[tuple(seq)]` instead of `arr[seq]`. In the future this will be interpreted as an array index, `arr[np.array(seq)]`, which will result either in an error or a different result.\n",
      "  return np.add.reduce(sorted[indexer] * weights, axis=axis) / sumval\n"
     ]
    },
    {
     "data": {
      "text/plain": [
       "<seaborn.axisgrid.FacetGrid at 0x25719002f98>"
      ]
     },
     "execution_count": 23,
     "metadata": {},
     "output_type": "execute_result"
    },
    {
     "data": {
      "image/png": "[encoded data removed]",
      "text/plain": [
       "<Figure size 430.5x360 with 1 Axes>"
      ]
     },
     "metadata": {},
     "output_type": "display_data"
    }
   ],
   "source": [
    "sns.catplot(data=train,x='Pclass',y='Survived',hue='Sex',kind='bar')"
   ]
  },
  {
   "cell_type": "code",
   "execution_count": null,
   "metadata": {},
   "outputs": [],
   "source": []
  },
  {
   "cell_type": "code",
   "execution_count": null,
   "metadata": {},
   "outputs": [],
   "source": []
  },
  {
   "cell_type": "code",
   "execution_count": null,
   "metadata": {},
   "outputs": [],
   "source": []
  },
  {
   "cell_type": "code",
   "execution_count": null,
   "metadata": {},
   "outputs": [],
   "source": []
  },
  {
   "cell_type": "code",
   "execution_count": null,
   "metadata": {},
   "outputs": [],
   "source": []
  },
  {
   "cell_type": "code",
   "execution_count": null,
   "metadata": {},
   "outputs": [],
   "source": []
  }
 ],
 "metadata": {
  "kernelspec": {
   "display_name": "Python 3",
   "language": "python",
   "name": "python3"
  },
  "language_info": {
   "codemirror_mode": {
    "name": "ipython",
    "version": 3
   },
   "file_extension": ".py",
   "mimetype": "text/x-python",
   "name": "python",
   "nbconvert_exporter": "python",
   "pygments_lexer": "ipython3",
   "version": "3.6.6"
  }
 },
 "nbformat": 4,
 "nbformat_minor": 2
}
