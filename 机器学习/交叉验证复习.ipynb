{
 "cells": [
  {
   "cell_type": "code",
   "execution_count": 1,
   "metadata": {},
   "outputs": [],
   "source": [
    "from sklearn.model_selection import train_test_split,GridSearchCV\n",
    "from sklearn.preprocessing import StandardScaler\n",
    "from sklearn.neighbors import KNeighborsClassifier\n",
    "from sklearn.datasets import load_iris"
   ]
  },
  {
   "cell_type": "code",
   "execution_count": 2,
   "metadata": {},
   "outputs": [],
   "source": [
    "i = load_iris()\n",
    "std = StandardScaler()\n",
    "knn = KNeighborsClassifier()\n",
    "gc = GridSearchCV(knn,{'n_neighbors':[i+1 for i in range(10)]},cv=10)"
   ]
  },
  {
   "cell_type": "code",
   "execution_count": 3,
   "metadata": {},
   "outputs": [],
   "source": [
    "x_train,x_test,y_train,y_test = train_test_split(i.data,i.target,test_size=0.25)"
   ]
  },
  {
   "cell_type": "code",
   "execution_count": 4,
   "metadata": {},
   "outputs": [
    {
     "name": "stderr",
     "output_type": "stream",
     "text": [
      "c:\\users\\lonvce\\appdata\\local\\programs\\python\\python36-32\\lib\\site-packages\\sklearn\\model_selection\\_search.py:841: DeprecationWarning: The default of the `iid` parameter will change from True to False in version 0.22 and will be removed in 0.24. This will change numeric results when test-set sizes are unequal.\n",
      "  DeprecationWarning)\n"
     ]
    },
    {
     "data": {
      "text/plain": [
       "GridSearchCV(cv=10, error_score='raise-deprecating',\n",
       "       estimator=KNeighborsClassifier(algorithm='auto', leaf_size=30, metric='minkowski',\n",
       "           metric_params=None, n_jobs=None, n_neighbors=5, p=2,\n",
       "           weights='uniform'),\n",
       "       fit_params=None, iid='warn', n_jobs=None,\n",
       "       param_grid={'n_neighbors': [1, 2, 3, 4, 5, 6, 7, 8, 9, 10]},\n",
       "       pre_dispatch='2*n_jobs', refit=True, return_train_score='warn',\n",
       "       scoring=None, verbose=0)"
      ]
     },
     "execution_count": 4,
     "metadata": {},
     "output_type": "execute_result"
    }
   ],
   "source": [
    "gc.fit(x_train,y_train)"
   ]
  },
  {
   "cell_type": "code",
   "execution_count": 5,
   "metadata": {},
   "outputs": [
    {
     "data": {
      "text/plain": [
       "0.9473684210526315"
      ]
     },
     "execution_count": 5,
     "metadata": {},
     "output_type": "execute_result"
    }
   ],
   "source": [
    "gc.score(x_test,y_test)"
   ]
  },
  {
   "cell_type": "code",
   "execution_count": 6,
   "metadata": {},
   "outputs": [
    {
     "data": {
      "text/plain": [
       "0.9910714285714286"
      ]
     },
     "execution_count": 6,
     "metadata": {},
     "output_type": "execute_result"
    }
   ],
   "source": [
    "gc.best_score_"
   ]
  },
  {
   "cell_type": "code",
   "execution_count": 7,
   "metadata": {},
   "outputs": [
    {
     "data": {
      "text/plain": [
       "KNeighborsClassifier(algorithm='auto', leaf_size=30, metric='minkowski',\n",
       "           metric_params=None, n_jobs=None, n_neighbors=4, p=2,\n",
       "           weights='uniform')"
      ]
     },
     "execution_count": 7,
     "metadata": {},
     "output_type": "execute_result"
    }
   ],
   "source": [
    "gc.best_estimator_"
   ]
  },
  {
   "cell_type": "code",
   "execution_count": 8,
   "metadata": {},
   "outputs": [
    {
     "data": {
      "text/plain": [
       "{'n_neighbors': 4}"
      ]
     },
     "execution_count": 8,
     "metadata": {},
     "output_type": "execute_result"
    }
   ],
   "source": [
    "gc.best_params_"
   ]
  },
  {
   "cell_type": "code",
   "execution_count": 9,
   "metadata": {},
   "outputs": [
    {
     "name": "stderr",
     "output_type": "stream",
     "text": [
      "c:\\users\\lonvce\\appdata\\local\\programs\\python\\python36-32\\lib\\site-packages\\sklearn\\utils\\deprecation.py:125: FutureWarning: You are accessing a training score ('split0_train_score'), which will not be available by default any more in 0.21. If you need training scores, please set return_train_score=True\n",
      "  warnings.warn(*warn_args, **warn_kwargs)\n",
      "c:\\users\\lonvce\\appdata\\local\\programs\\python\\python36-32\\lib\\site-packages\\sklearn\\utils\\deprecation.py:125: FutureWarning: You are accessing a training score ('split1_train_score'), which will not be available by default any more in 0.21. If you need training scores, please set return_train_score=True\n",
      "  warnings.warn(*warn_args, **warn_kwargs)\n",
      "c:\\users\\lonvce\\appdata\\local\\programs\\python\\python36-32\\lib\\site-packages\\sklearn\\utils\\deprecation.py:125: FutureWarning: You are accessing a training score ('split2_train_score'), which will not be available by default any more in 0.21. If you need training scores, please set return_train_score=True\n",
      "  warnings.warn(*warn_args, **warn_kwargs)\n",
      "c:\\users\\lonvce\\appdata\\local\\programs\\python\\python36-32\\lib\\site-packages\\sklearn\\utils\\deprecation.py:125: FutureWarning: You are accessing a training score ('split3_train_score'), which will not be available by default any more in 0.21. If you need training scores, please set return_train_score=True\n",
      "  warnings.warn(*warn_args, **warn_kwargs)\n",
      "c:\\users\\lonvce\\appdata\\local\\programs\\python\\python36-32\\lib\\site-packages\\sklearn\\utils\\deprecation.py:125: FutureWarning: You are accessing a training score ('split4_train_score'), which will not be available by default any more in 0.21. If you need training scores, please set return_train_score=True\n",
      "  warnings.warn(*warn_args, **warn_kwargs)\n",
      "c:\\users\\lonvce\\appdata\\local\\programs\\python\\python36-32\\lib\\site-packages\\sklearn\\utils\\deprecation.py:125: FutureWarning: You are accessing a training score ('split5_train_score'), which will not be available by default any more in 0.21. If you need training scores, please set return_train_score=True\n",
      "  warnings.warn(*warn_args, **warn_kwargs)\n",
      "c:\\users\\lonvce\\appdata\\local\\programs\\python\\python36-32\\lib\\site-packages\\sklearn\\utils\\deprecation.py:125: FutureWarning: You are accessing a training score ('split6_train_score'), which will not be available by default any more in 0.21. If you need training scores, please set return_train_score=True\n",
      "  warnings.warn(*warn_args, **warn_kwargs)\n",
      "c:\\users\\lonvce\\appdata\\local\\programs\\python\\python36-32\\lib\\site-packages\\sklearn\\utils\\deprecation.py:125: FutureWarning: You are accessing a training score ('split7_train_score'), which will not be available by default any more in 0.21. If you need training scores, please set return_train_score=True\n",
      "  warnings.warn(*warn_args, **warn_kwargs)\n",
      "c:\\users\\lonvce\\appdata\\local\\programs\\python\\python36-32\\lib\\site-packages\\sklearn\\utils\\deprecation.py:125: FutureWarning: You are accessing a training score ('split8_train_score'), which will not be available by default any more in 0.21. If you need training scores, please set return_train_score=True\n",
      "  warnings.warn(*warn_args, **warn_kwargs)\n",
      "c:\\users\\lonvce\\appdata\\local\\programs\\python\\python36-32\\lib\\site-packages\\sklearn\\utils\\deprecation.py:125: FutureWarning: You are accessing a training score ('split9_train_score'), which will not be available by default any more in 0.21. If you need training scores, please set return_train_score=True\n",
      "  warnings.warn(*warn_args, **warn_kwargs)\n",
      "c:\\users\\lonvce\\appdata\\local\\programs\\python\\python36-32\\lib\\site-packages\\sklearn\\utils\\deprecation.py:125: FutureWarning: You are accessing a training score ('mean_train_score'), which will not be available by default any more in 0.21. If you need training scores, please set return_train_score=True\n",
      "  warnings.warn(*warn_args, **warn_kwargs)\n",
      "c:\\users\\lonvce\\appdata\\local\\programs\\python\\python36-32\\lib\\site-packages\\sklearn\\utils\\deprecation.py:125: FutureWarning: You are accessing a training score ('std_train_score'), which will not be available by default any more in 0.21. If you need training scores, please set return_train_score=True\n",
      "  warnings.warn(*warn_args, **warn_kwargs)\n"
     ]
    },
    {
     "data": {
      "text/plain": [
       "{'mean_fit_time': array([0.00130005, 0.00100014, 0.00119996, 0.00080006, 0.00090001,\n",
       "        0.00100005, 0.00090003, 0.00100017, 0.00080009, 0.00090013]),\n",
       " 'std_fit_time': array([6.40310705e-04, 1.28392334e-07, 3.99947177e-04, 4.00030626e-04,\n",
       "        5.38535013e-04, 1.19209290e-07, 3.00010066e-04, 1.50789149e-07,\n",
       "        4.00042545e-04, 3.00041881e-04]),\n",
       " 'mean_score_time': array([0.00160003, 0.00180008, 0.00190015, 0.00180004, 0.00180013,\n",
       "        0.0019001 , 0.00180011, 0.00210011, 0.00210013, 0.00190008]),\n",
       " 'std_score_time': array([0.00066329, 0.00040008, 0.00053849, 0.00060009, 0.00039998,\n",
       "        0.00030006, 0.00039997, 0.00030013, 0.00070004, 0.00053856]),\n",
       " 'param_n_neighbors': masked_array(data=[1, 2, 3, 4, 5, 6, 7, 8, 9, 10],\n",
       "              mask=[False, False, False, False, False, False, False, False,\n",
       "                    False, False],\n",
       "        fill_value='?',\n",
       "             dtype=object),\n",
       " 'params': [{'n_neighbors': 1},\n",
       "  {'n_neighbors': 2},\n",
       "  {'n_neighbors': 3},\n",
       "  {'n_neighbors': 4},\n",
       "  {'n_neighbors': 5},\n",
       "  {'n_neighbors': 6},\n",
       "  {'n_neighbors': 7},\n",
       "  {'n_neighbors': 8},\n",
       "  {'n_neighbors': 9},\n",
       "  {'n_neighbors': 10}],\n",
       " 'split0_test_score': array([0.92307692, 0.92307692, 0.92307692, 0.92307692, 0.92307692,\n",
       "        0.92307692, 0.92307692, 0.92307692, 0.92307692, 0.92307692]),\n",
       " 'split1_test_score': array([1., 1., 1., 1., 1., 1., 1., 1., 1., 1.]),\n",
       " 'split2_test_score': array([0.91666667, 0.91666667, 0.91666667, 1.        , 0.91666667,\n",
       "        1.        , 1.        , 1.        , 0.91666667, 1.        ]),\n",
       " 'split3_test_score': array([1., 1., 1., 1., 1., 1., 1., 1., 1., 1.]),\n",
       " 'split4_test_score': array([1.        , 0.91666667, 1.        , 1.        , 1.        ,\n",
       "        1.        , 1.        , 1.        , 1.        , 1.        ]),\n",
       " 'split5_test_score': array([1. , 1. , 1. , 1. , 1. , 1. , 0.9, 1. , 0.9, 0.9]),\n",
       " 'split6_test_score': array([1., 1., 1., 1., 1., 1., 1., 1., 1., 1.]),\n",
       " 'split7_test_score': array([0.9, 0.9, 1. , 1. , 1. , 1. , 1. , 1. , 1. , 1. ]),\n",
       " 'split8_test_score': array([1., 1., 1., 1., 1., 1., 1., 1., 1., 1.]),\n",
       " 'split9_test_score': array([1., 1., 1., 1., 1., 1., 1., 1., 1., 1.]),\n",
       " 'mean_test_score': array([0.97321429, 0.96428571, 0.98214286, 0.99107143, 0.98214286,\n",
       "        0.99107143, 0.98214286, 0.99107143, 0.97321429, 0.98214286]),\n",
       " 'std_test_score': array([0.04007797, 0.04233504, 0.03334641, 0.02463927, 0.03334641,\n",
       "        0.02463927, 0.03550764, 0.02463927, 0.04007797, 0.03550764]),\n",
       " 'rank_test_score': array([ 8, 10,  4,  1,  4,  1,  4,  1,  8,  4], dtype=int32),\n",
       " 'split0_train_score': array([1.        , 0.98989899, 0.98989899, 0.98989899, 0.98989899,\n",
       "        1.        , 0.97979798, 1.        , 0.97979798, 0.98989899]),\n",
       " 'split1_train_score': array([1.        , 0.97979798, 0.97979798, 0.97979798, 0.97979798,\n",
       "        0.98989899, 0.97979798, 0.98989899, 0.97979798, 0.98989899]),\n",
       " 'split2_train_score': array([1.  , 0.98, 0.99, 0.99, 0.99, 0.99, 0.99, 0.99, 0.99, 0.99]),\n",
       " 'split3_train_score': array([1.  , 0.99, 0.98, 0.98, 0.98, 0.99, 0.98, 0.99, 0.97, 0.99]),\n",
       " 'split4_train_score': array([1.  , 0.98, 0.98, 0.99, 0.98, 0.99, 0.98, 0.98, 0.98, 0.98]),\n",
       " 'split5_train_score': array([1.        , 0.98039216, 0.98039216, 0.99019608, 0.99019608,\n",
       "        0.99019608, 0.99019608, 0.99019608, 0.99019608, 0.99019608]),\n",
       " 'split6_train_score': array([1.        , 0.98039216, 0.98039216, 0.98039216, 0.98039216,\n",
       "        0.99019608, 0.97058824, 0.99019608, 0.97058824, 0.99019608]),\n",
       " 'split7_train_score': array([1.        , 0.99019608, 0.98039216, 0.98039216, 0.98039216,\n",
       "        0.99019608, 0.98039216, 0.98039216, 0.98039216, 0.98039216]),\n",
       " 'split8_train_score': array([1.        , 0.98039216, 0.98039216, 0.98039216, 0.98039216,\n",
       "        0.99019608, 0.98039216, 0.99019608, 0.97058824, 0.98039216]),\n",
       " 'split9_train_score': array([1.        , 0.98039216, 0.98039216, 0.98039216, 0.98039216,\n",
       "        0.99019608, 0.98039216, 0.99019608, 0.98039216, 0.98039216]),\n",
       " 'mean_train_score': array([1.        , 0.98314617, 0.98216578, 0.98414617, 0.98314617,\n",
       "        0.99108794, 0.98115567, 0.98910755, 0.97917528, 0.98613666]),\n",
       " 'std_train_score': array([0.        , 0.00451245, 0.00389736, 0.00480311, 0.00451245,\n",
       "        0.00297265, 0.00528894, 0.00533395, 0.00688992, 0.00477258])}"
      ]
     },
     "execution_count": 9,
     "metadata": {},
     "output_type": "execute_result"
    }
   ],
   "source": [
    "gc.cv_results_"
   ]
  },
  {
   "cell_type": "code",
   "execution_count": null,
   "metadata": {},
   "outputs": [],
   "source": []
  },
  {
   "cell_type": "code",
   "execution_count": null,
   "metadata": {},
   "outputs": [],
   "source": []
  },
  {
   "cell_type": "code",
   "execution_count": null,
   "metadata": {},
   "outputs": [],
   "source": []
  },
  {
   "cell_type": "code",
   "execution_count": null,
   "metadata": {},
   "outputs": [],
   "source": []
  },
  {
   "cell_type": "code",
   "execution_count": null,
   "metadata": {},
   "outputs": [],
   "source": []
  },
  {
   "cell_type": "code",
   "execution_count": null,
   "metadata": {},
   "outputs": [],
   "source": []
  },
  {
   "cell_type": "code",
   "execution_count": null,
   "metadata": {},
   "outputs": [],
   "source": []
  },
  {
   "cell_type": "code",
   "execution_count": null,
   "metadata": {},
   "outputs": [],
   "source": []
  },
  {
   "cell_type": "code",
   "execution_count": null,
   "metadata": {},
   "outputs": [],
   "source": []
  },
  {
   "cell_type": "code",
   "execution_count": null,
   "metadata": {},
   "outputs": [],
   "source": []
  },
  {
   "cell_type": "code",
   "execution_count": null,
   "metadata": {},
   "outputs": [],
   "source": []
  },
  {
   "cell_type": "code",
   "execution_count": null,
   "metadata": {},
   "outputs": [],
   "source": []
  },
  {
   "cell_type": "code",
   "execution_count": null,
   "metadata": {},
   "outputs": [],
   "source": []
  }
 ],
 "metadata": {
  "kernelspec": {
   "display_name": "Python 3",
   "language": "python",
   "name": "python3"
  },
  "language_info": {
   "codemirror_mode": {
    "name": "ipython",
    "version": 3
   },
   "file_extension": ".py",
   "mimetype": "text/x-python",
   "name": "python",
   "nbconvert_exporter": "python",
   "pygments_lexer": "ipython3",
   "version": "3.6.4"
  }
 },
 "nbformat": 4,
 "nbformat_minor": 2
}
