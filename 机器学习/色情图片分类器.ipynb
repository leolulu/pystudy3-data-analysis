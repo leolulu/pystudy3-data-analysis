{
 "cells": [
  {
   "cell_type": "code",
   "execution_count": 66,
   "metadata": {},
   "outputs": [],
   "source": [
    "import pandas as pd\n",
    "from sklearn.naive_bayes import MultinomialNB\n",
    "from sklearn.model_selection import train_test_split\n",
    "from sklearn.feature_extraction.text import TfidfVectorizer\n",
    "import numpy as np"
   ]
  },
  {
   "cell_type": "code",
   "execution_count": 76,
   "metadata": {},
   "outputs": [],
   "source": [
    "bys = MultinomialNB(alpha=0.1)\n",
    "tf = TfidfVectorizer()"
   ]
  },
  {
   "cell_type": "code",
   "execution_count": 35,
   "metadata": {},
   "outputs": [],
   "source": [
    "data = pd.read_csv(r'E:\\python\\pystudy3-data-analysis\\量化分析\\sankaku数据.csv',engine='python')"
   ]
  },
  {
   "cell_type": "code",
   "execution_count": 57,
   "metadata": {},
   "outputs": [],
   "source": [
    "def remove(x):\n",
    "    x = x.replace('[','')\n",
    "    x = x.replace(']','')\n",
    "    x = x.replace(\"'\",'')\n",
    "    x = x.replace(\",\",' ')\n",
    "    return x\n",
    "\n",
    "def define_class(x):\n",
    "    x = x.strip()\n",
    "    if x == 'Safe':\n",
    "        return 0\n",
    "    if x == 'Questionable':\n",
    "        return 1\n",
    "    if x == 'Explicit':\n",
    "        return 2"
   ]
  },
  {
   "cell_type": "code",
   "execution_count": 86,
   "metadata": {},
   "outputs": [],
   "source": [
    "tag_list = np.array(data['tag_list'].map(remove)).reshape(-1,1)\n",
    "\n",
    "target = list(data['rating'])\n",
    "# target = list(map(define_class,target))\n",
    "target = np.array(target).reshape(-1,1)"
   ]
  },
  {
   "cell_type": "code",
   "execution_count": 87,
   "metadata": {},
   "outputs": [],
   "source": [
    "tag_list = data['tag_list'].map(remove)\n",
    "target = list(data['rating'])\n",
    "# target = list(map(define_class,target))\n",
    "\n",
    "tag_list = tf.fit_transform(tag_list)"
   ]
  },
  {
   "cell_type": "code",
   "execution_count": 88,
   "metadata": {},
   "outputs": [
    {
     "data": {
      "text/plain": [
       "MultinomialNB(alpha=0.1, class_prior=None, fit_prior=True)"
      ]
     },
     "execution_count": 88,
     "metadata": {},
     "output_type": "execute_result"
    }
   ],
   "source": [
    "bys.fit(tag_list,target)"
   ]
  },
  {
   "cell_type": "code",
   "execution_count": 48,
   "metadata": {},
   "outputs": [
    {
     "data": {
      "text/plain": [
       " Safe            57\n",
       " Explicit        28\n",
       " Questionable    27\n",
       "dtype: int64"
      ]
     },
     "execution_count": 48,
     "metadata": {},
     "output_type": "execute_result"
    }
   ],
   "source": [
    "pd.value_counts(target)"
   ]
  },
  {
   "cell_type": "code",
   "execution_count": 95,
   "metadata": {},
   "outputs": [],
   "source": [
    "x_test = tf.transform(['kantai collection ayanami (kantai collection) 8ne (nitika127) white background 1girl anchor anchor symbol asymmetrical hair bangs black legwear blush brown hair female green eyes hair ornament hair ribbon hand in hair kneeling long hair long sleeves pleated skirt ponytail ribbon sailor collar school uniform serafuku shirt side ponytail skirt smile socks solo tied hair'])"
   ]
  },
  {
   "cell_type": "code",
   "execution_count": 96,
   "metadata": {},
   "outputs": [
    {
     "data": {
      "text/plain": [
       "array([' Safe'], dtype='<U13')"
      ]
     },
     "execution_count": 96,
     "metadata": {},
     "output_type": "execute_result"
    }
   ],
   "source": [
    "bys.predict(x_test)"
   ]
  },
  {
   "cell_type": "code",
   "execution_count": null,
   "metadata": {},
   "outputs": [],
   "source": []
  }
 ],
 "metadata": {
  "kernelspec": {
   "display_name": "Python 3",
   "language": "python",
   "name": "python3"
  },
  "language_info": {
   "codemirror_mode": {
    "name": "ipython",
    "version": 3
   },
   "file_extension": ".py",
   "mimetype": "text/x-python",
   "name": "python",
   "nbconvert_exporter": "python",
   "pygments_lexer": "ipython3",
   "version": "3.6.6"
  }
 },
 "nbformat": 4,
 "nbformat_minor": 2
}
