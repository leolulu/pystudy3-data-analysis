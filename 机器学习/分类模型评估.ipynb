{
 "cells": [
  {
   "cell_type": "code",
   "execution_count": 6,
   "metadata": {},
   "outputs": [],
   "source": [
    "from sklearn.datasets import fetch_20newsgroups\n",
    "from sklearn.model_selection import train_test_split\n",
    "from sklearn.naive_bayes import MultinomialNB\n",
    "from sklearn.feature_extraction.text import TfidfVectorizer\n",
    "from sklearn.metrics import classification_report"
   ]
  },
  {
   "cell_type": "code",
   "execution_count": 2,
   "metadata": {},
   "outputs": [],
   "source": [
    "news = fetch_20newsgroups(subset='all')\n",
    "bys = MultinomialNB(alpha=1.0)\n",
    "tf = TfidfVectorizer()"
   ]
  },
  {
   "cell_type": "code",
   "execution_count": 3,
   "metadata": {},
   "outputs": [],
   "source": [
    "x_train,x_test,y_train,y_test = train_test_split(news.data,news.target,test_size=0.25)\n",
    "\n",
    "x_train = tf.fit_transform(x_train)\n",
    "x_test = tf.transform(x_test)"
   ]
  },
  {
   "cell_type": "code",
   "execution_count": 4,
   "metadata": {},
   "outputs": [
    {
     "data": {
      "text/plain": [
       "MultinomialNB(alpha=1.0, class_prior=None, fit_prior=True)"
      ]
     },
     "execution_count": 4,
     "metadata": {},
     "output_type": "execute_result"
    }
   ],
   "source": [
    "bys.fit(x_train,y_train)"
   ]
  },
  {
   "cell_type": "code",
   "execution_count": 5,
   "metadata": {},
   "outputs": [
    {
     "data": {
      "text/plain": [
       "0.8518675721561969"
      ]
     },
     "execution_count": 5,
     "metadata": {},
     "output_type": "execute_result"
    }
   ],
   "source": [
    "bys.score(x_test,y_test)"
   ]
  },
  {
   "cell_type": "code",
   "execution_count": 12,
   "metadata": {},
   "outputs": [
    {
     "data": {
      "text/plain": [
       "['                          precision    recall  f1-score   support',\n",
       " '',\n",
       " '             alt.atheism       0.88      0.71      0.79       189',\n",
       " '           comp.graphics       0.87      0.77      0.82       249',\n",
       " ' comp.os.ms-windows.misc       0.84      0.88      0.86       246',\n",
       " 'comp.sys.ibm.pc.hardware       0.76      0.84      0.80       258',\n",
       " '   comp.sys.mac.hardware       0.90      0.83      0.86       247',\n",
       " '          comp.windows.x       0.94      0.85      0.89       236',\n",
       " '            misc.forsale       0.92      0.73      0.82       247',\n",
       " '               rec.autos       0.90      0.92      0.91       251',\n",
       " '         rec.motorcycles       0.91      0.96      0.93       238',\n",
       " '      rec.sport.baseball       0.96      0.94      0.95       261',\n",
       " '        rec.sport.hockey       0.90      1.00      0.94       239',\n",
       " '               sci.crypt       0.81      0.97      0.89       272',\n",
       " '         sci.electronics       0.91      0.77      0.83       261',\n",
       " '                 sci.med       0.97      0.87      0.92       253',\n",
       " '               sci.space       0.85      0.98      0.91       228',\n",
       " '  soc.religion.christian       0.54      0.97      0.69       244',\n",
       " '      talk.politics.guns       0.79      0.97      0.87       228',\n",
       " '   talk.politics.mideast       0.92      0.97      0.95       227',\n",
       " '      talk.politics.misc       0.98      0.58      0.73       197',\n",
       " '      talk.religion.misc       1.00      0.18      0.30       141',\n",
       " '',\n",
       " '               micro avg       0.85      0.85      0.85      4712',\n",
       " '               macro avg       0.88      0.83      0.83      4712',\n",
       " '            weighted avg       0.87      0.85      0.85      4712',\n",
       " '']"
      ]
     },
     "execution_count": 12,
     "metadata": {},
     "output_type": "execute_result"
    }
   ],
   "source": [
    "classification_report(y_test,bys.predict(x_test),target_names=news.target_names).split('\\n')"
   ]
  }
 ],
 "metadata": {
  "kernelspec": {
   "display_name": "Python 3",
   "language": "python",
   "name": "python3"
  },
  "language_info": {
   "codemirror_mode": {
    "name": "ipython",
    "version": 3
   },
   "file_extension": ".py",
   "mimetype": "text/x-python",
   "name": "python",
   "nbconvert_exporter": "python",
   "pygments_lexer": "ipython3",
   "version": "3.6.6"
  }
 },
 "nbformat": 4,
 "nbformat_minor": 2
}
