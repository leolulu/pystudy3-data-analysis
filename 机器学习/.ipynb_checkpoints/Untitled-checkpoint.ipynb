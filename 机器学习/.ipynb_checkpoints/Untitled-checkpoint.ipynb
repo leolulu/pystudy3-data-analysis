{
 "cells": [
  {
   "cell_type": "code",
   "execution_count": 17,
   "metadata": {},
   "outputs": [],
   "source": [
    "import pandas as pd\n",
    "import pymysql\n",
    "import requests\n",
    "from lxml import etree\n",
    "proxies = {\n",
    "    \"http\": \"socks5://127.0.0.1:1080\",\n",
    "    'https': 'socks5://127.0.0.1:1080'\n",
    "}\n",
    "from sklearn.externals import joblib\n",
    "# joblib.dump(model, 'path/to/my_model.pkl')\n",
    "# model = joblib.load('path/to/my_model.pkl') "
   ]
  },
  {
   "cell_type": "code",
   "execution_count": 4,
   "metadata": {},
   "outputs": [],
   "source": [
    "db = pymysql.connect('132.232.0.240', 'yxy', 'test', 'mydb')"
   ]
  },
  {
   "cell_type": "code",
   "execution_count": 5,
   "metadata": {},
   "outputs": [],
   "source": [
    "data = pd.read_sql(\"select * from sankaku s where s.rating <> 'Questionable'\",db)"
   ]
  },
  {
   "cell_type": "code",
   "execution_count": 6,
   "metadata": {},
   "outputs": [
    {
     "name": "stdout",
     "output_type": "stream",
     "text": [
      "<class 'pandas.core.frame.DataFrame'>\n",
      "RangeIndex: 6350 entries, 0 to 6349\n",
      "Data columns (total 3 columns):\n",
      "img_id      6350 non-null int64\n",
      "tag_list    6350 non-null object\n",
      "rating      6350 non-null object\n",
      "dtypes: int64(1), object(2)\n",
      "memory usage: 148.9+ KB\n"
     ]
    }
   ],
   "source": [
    "data.info()"
   ]
  },
  {
   "cell_type": "code",
   "execution_count": 7,
   "metadata": {},
   "outputs": [
    {
     "data": {
      "text/html": [
       "<div>\n",
       "<style scoped>\n",
       "    .dataframe tbody tr th:only-of-type {\n",
       "        vertical-align: middle;\n",
       "    }\n",
       "\n",
       "    .dataframe tbody tr th {\n",
       "        vertical-align: top;\n",
       "    }\n",
       "\n",
       "    .dataframe thead th {\n",
       "        text-align: right;\n",
       "    }\n",
       "</style>\n",
       "<table border=\"1\" class=\"dataframe\">\n",
       "  <thead>\n",
       "    <tr style=\"text-align: right;\">\n",
       "      <th></th>\n",
       "      <th>img_id</th>\n",
       "      <th>tag_list</th>\n",
       "      <th>rating</th>\n",
       "    </tr>\n",
       "  </thead>\n",
       "  <tbody>\n",
       "    <tr>\n",
       "      <th>0</th>\n",
       "      <td>7459672</td>\n",
       "      <td>['demonion ~maou no chika yousai~', 'astronaut...</td>\n",
       "      <td>Explicit</td>\n",
       "    </tr>\n",
       "    <tr>\n",
       "      <th>1</th>\n",
       "      <td>7459682</td>\n",
       "      <td>['demonion ~maou no chika yousai~', 'astronaut...</td>\n",
       "      <td>Explicit</td>\n",
       "    </tr>\n",
       "    <tr>\n",
       "      <th>2</th>\n",
       "      <td>7459686</td>\n",
       "      <td>['girls frontline', 'wa2000 (girls frontline)'...</td>\n",
       "      <td>Explicit</td>\n",
       "    </tr>\n",
       "    <tr>\n",
       "      <th>3</th>\n",
       "      <td>7459688</td>\n",
       "      <td>['girls frontline', 'wa2000 (girls frontline)'...</td>\n",
       "      <td>Explicit</td>\n",
       "    </tr>\n",
       "    <tr>\n",
       "      <th>4</th>\n",
       "      <td>7459689</td>\n",
       "      <td>['spider-man (series)', 'spider-gwen', 'spider...</td>\n",
       "      <td>Safe</td>\n",
       "    </tr>\n",
       "  </tbody>\n",
       "</table>\n",
       "</div>"
      ],
      "text/plain": [
       "    img_id                                           tag_list    rating\n",
       "0  7459672  ['demonion ~maou no chika yousai~', 'astronaut...  Explicit\n",
       "1  7459682  ['demonion ~maou no chika yousai~', 'astronaut...  Explicit\n",
       "2  7459686  ['girls frontline', 'wa2000 (girls frontline)'...  Explicit\n",
       "3  7459688  ['girls frontline', 'wa2000 (girls frontline)'...  Explicit\n",
       "4  7459689  ['spider-man (series)', 'spider-gwen', 'spider...      Safe"
      ]
     },
     "execution_count": 7,
     "metadata": {},
     "output_type": "execute_result"
    }
   ],
   "source": [
    "data.head()"
   ]
  },
  {
   "cell_type": "code",
   "execution_count": 8,
   "metadata": {},
   "outputs": [],
   "source": [
    "import pandas as pd\n",
    "from sklearn.naive_bayes import MultinomialNB\n",
    "from sklearn.model_selection import train_test_split\n",
    "from sklearn.feature_extraction.text import TfidfVectorizer\n",
    "import numpy as np\n",
    "\n",
    "bys = MultinomialNB(alpha=0.1)\n",
    "tf = TfidfVectorizer()\n",
    "\n",
    "def remove(x):\n",
    "    x = x.replace('[','')\n",
    "    x = x.replace(']','')\n",
    "    x = x.replace(\"'\",'')\n",
    "    x = x.replace(\",\",' ')\n",
    "    return x"
   ]
  },
  {
   "cell_type": "code",
   "execution_count": 11,
   "metadata": {},
   "outputs": [],
   "source": [
    "tag_list = data['tag_list'].map(remove)\n",
    "target = list(data['rating'])\n",
    "\n",
    "tag_list = tf.fit_transform(tag_list)"
   ]
  },
  {
   "cell_type": "code",
   "execution_count": 12,
   "metadata": {},
   "outputs": [
    {
     "data": {
      "text/plain": [
       "MultinomialNB(alpha=0.1, class_prior=None, fit_prior=True)"
      ]
     },
     "execution_count": 12,
     "metadata": {},
     "output_type": "execute_result"
    }
   ],
   "source": [
    "bys.fit(tag_list,target)"
   ]
  },
  {
   "cell_type": "code",
   "execution_count": 13,
   "metadata": {},
   "outputs": [
    {
     "data": {
      "text/plain": [
       "Safe        3386\n",
       "Explicit    2964\n",
       "dtype: int64"
      ]
     },
     "execution_count": 13,
     "metadata": {},
     "output_type": "execute_result"
    }
   ],
   "source": [
    "pd.value_counts(target)"
   ]
  },
  {
   "cell_type": "code",
   "execution_count": 62,
   "metadata": {},
   "outputs": [
    {
     "data": {
      "text/plain": [
       "array(['Safe', 'Explicit', 'Explicit', 'Explicit', 'Safe', 'Safe', 'Safe',\n",
       "       'Explicit', 'Explicit', 'Safe', 'Explicit', 'Safe', 'Safe',\n",
       "       'Explicit', 'Safe', 'Safe', 'Safe', 'Explicit'], dtype='<U8')"
      ]
     },
     "execution_count": 62,
     "metadata": {},
     "output_type": "execute_result"
    }
   ],
   "source": [
    "predict_str = ' '.join(\n",
    "    etree.HTML(\n",
    "        requests.get(\"http://konachan.com/post/show/277032/animal_ears-bed-breasts-cameltoe-ebi_193-fang-gray\",proxies=proxies).content\n",
    "    ).xpath(\"//ul[@id='tag-sidebar']//li/a[position()=2]/text()\")\n",
    ")\n",
    "predict_str\n",
    "\n",
    "list1.append(predict_str)\n",
    "bys.predict(\n",
    "    tf.transform(list1)\n",
    ")"
   ]
  },
  {
   "cell_type": "code",
   "execution_count": 48,
   "metadata": {},
   "outputs": [],
   "source": []
  },
  {
   "cell_type": "code",
   "execution_count": null,
   "metadata": {},
   "outputs": [],
   "source": []
  }
 ],
 "metadata": {
  "kernelspec": {
   "display_name": "Python 3",
   "language": "python",
   "name": "python3"
  },
  "language_info": {
   "codemirror_mode": {
    "name": "ipython",
    "version": 3
   },
   "file_extension": ".py",
   "mimetype": "text/x-python",
   "name": "python",
   "nbconvert_exporter": "python",
   "pygments_lexer": "ipython3",
   "version": "3.6.6"
  }
 },
 "nbformat": 4,
 "nbformat_minor": 2
}
