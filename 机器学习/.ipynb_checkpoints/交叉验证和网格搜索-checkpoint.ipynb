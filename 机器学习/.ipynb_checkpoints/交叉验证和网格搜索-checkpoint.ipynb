{
 "cells": [
  {
   "cell_type": "code",
   "execution_count": 1,
   "metadata": {},
   "outputs": [],
   "source": [
    "from sklearn.model_selection import GridSearchCV,train_test_split\n",
    "from sklearn.neighbors import KNeighborsClassifier\n",
    "import pandas as pd\n",
    "from sklearn.datasets import load_iris\n",
    "from sklearn.preprocessing import StandardScaler\n",
    "import numpy as np"
   ]
  },
  {
   "cell_type": "code",
   "execution_count": 22,
   "metadata": {},
   "outputs": [],
   "source": [
    "i = load_iris()\n",
    "knn = KNeighborsClassifier(n_neighbors=3)\n",
    "std = StandardScaler()\n",
    "gc = GridSearchCV(knn,{'n_neighbors':[i+1 for i in range(10)]},cv=10,)"
   ]
  },
  {
   "cell_type": "code",
   "execution_count": 23,
   "metadata": {},
   "outputs": [],
   "source": [
    "x_train,x_test,y_train,y_test = train_test_split(i.data,i.target,test_size=0.25)"
   ]
  },
  {
   "cell_type": "code",
   "execution_count": 24,
   "metadata": {},
   "outputs": [],
   "source": [
    "x_train = std.fit_transform(x_train)\n",
    "x_test = std.transform(x_test)"
   ]
  },
  {
   "cell_type": "code",
   "execution_count": 25,
   "metadata": {},
   "outputs": [
    {
     "data": {
      "text/plain": [
       "KNeighborsClassifier(algorithm='auto', leaf_size=30, metric='minkowski',\n",
       "           metric_params=None, n_jobs=None, n_neighbors=3, p=2,\n",
       "           weights='uniform')"
      ]
     },
     "execution_count": 25,
     "metadata": {},
     "output_type": "execute_result"
    }
   ],
   "source": [
    "knn.fit(x_train,y_train)"
   ]
  },
  {
   "cell_type": "code",
   "execution_count": 26,
   "metadata": {},
   "outputs": [
    {
     "data": {
      "text/plain": [
       "0.9473684210526315"
      ]
     },
     "execution_count": 26,
     "metadata": {},
     "output_type": "execute_result"
    }
   ],
   "source": [
    "knn.score(x_test,y_test)"
   ]
  },
  {
   "cell_type": "code",
   "execution_count": 7,
   "metadata": {},
   "outputs": [],
   "source": [
    "my_x_data = np.random.rand(10,4)"
   ]
  },
  {
   "cell_type": "code",
   "execution_count": 8,
   "metadata": {},
   "outputs": [
    {
     "data": {
      "text/plain": [
       "array([[0.93408524, 0.54534268, 0.4934046 , 0.86486038],\n",
       "       [0.55365578, 0.53196787, 0.04139634, 0.56371181],\n",
       "       [0.04467952, 0.06564716, 0.82766078, 0.49132657],\n",
       "       [0.26007707, 0.35375057, 0.7067536 , 0.40366832],\n",
       "       [0.50941388, 0.95254921, 0.08132975, 0.49022733],\n",
       "       [0.40745182, 0.62302169, 0.63970088, 0.01368103],\n",
       "       [0.17691569, 0.86564814, 0.45615012, 0.78054318],\n",
       "       [0.64715221, 0.19421171, 0.61251844, 0.78829272],\n",
       "       [0.57502658, 0.33514001, 0.28425187, 0.29830081],\n",
       "       [0.83814247, 0.71179218, 0.81939183, 0.6889768 ]])"
      ]
     },
     "execution_count": 8,
     "metadata": {},
     "output_type": "execute_result"
    }
   ],
   "source": [
    "my_x_data"
   ]
  },
  {
   "cell_type": "code",
   "execution_count": 9,
   "metadata": {},
   "outputs": [],
   "source": [
    "my_x_data = std.transform(my_x_data)"
   ]
  },
  {
   "cell_type": "code",
   "execution_count": 10,
   "metadata": {},
   "outputs": [
    {
     "data": {
      "text/plain": [
       "array([[-5.95551735, -5.91997477, -1.77422223, -0.38569111],\n",
       "       [-6.4190085 , -5.95107727, -2.02635618, -0.77476209],\n",
       "       [-7.03911294, -7.03548455, -1.58777136, -0.86828071],\n",
       "       [-6.77668621, -6.36551336, -1.65521439, -0.98153139],\n",
       "       [-6.47291003, -4.97303476, -2.00408099, -0.86970087],\n",
       "       [-6.59713414, -5.73933581, -1.69261695, -1.48537818],\n",
       "       [-6.87800477, -5.17511918, -1.79500309, -0.4946253 ],\n",
       "       [-6.30509838, -6.73651362, -1.70777954, -0.48461322],\n",
       "       [-6.39297167, -6.40879136, -1.89088935, -1.11766167],\n",
       "       [-6.07240795, -5.53290412, -1.59238385, -0.61292512]])"
      ]
     },
     "execution_count": 10,
     "metadata": {},
     "output_type": "execute_result"
    }
   ],
   "source": [
    "my_x_data"
   ]
  },
  {
   "cell_type": "code",
   "execution_count": 11,
   "metadata": {},
   "outputs": [
    {
     "data": {
      "text/plain": [
       "array([0, 0, 0, 0, 0, 0, 0, 1, 0, 0])"
      ]
     },
     "execution_count": 11,
     "metadata": {},
     "output_type": "execute_result"
    }
   ],
   "source": [
    "knn.predict(my_x_data)"
   ]
  },
  {
   "cell_type": "code",
   "execution_count": 12,
   "metadata": {},
   "outputs": [
    {
     "name": "stderr",
     "output_type": "stream",
     "text": [
      "d:\\Anaconda3\\lib\\site-packages\\sklearn\\model_selection\\_search.py:841: DeprecationWarning: The default of the `iid` parameter will change from True to False in version 0.22 and will be removed in 0.24. This will change numeric results when test-set sizes are unequal.\n",
      "  DeprecationWarning)\n"
     ]
    },
    {
     "data": {
      "text/plain": [
       "GridSearchCV(cv=10, error_score='raise-deprecating',\n",
       "       estimator=KNeighborsClassifier(algorithm='auto', leaf_size=30, metric='minkowski',\n",
       "           metric_params=None, n_jobs=None, n_neighbors=5, p=2,\n",
       "           weights='uniform'),\n",
       "       fit_params=None, iid='warn', n_jobs=None,\n",
       "       param_grid={'n_neighbors': [1, 2, 3, 4, 5, 6, 7, 8, 9, 10]},\n",
       "       pre_dispatch='2*n_jobs', refit=True, return_train_score='warn',\n",
       "       scoring=None, verbose=0)"
      ]
     },
     "execution_count": 12,
     "metadata": {},
     "output_type": "execute_result"
    }
   ],
   "source": [
    "gc.fit(x_train,y_train)"
   ]
  },
  {
   "cell_type": "code",
   "execution_count": 13,
   "metadata": {},
   "outputs": [
    {
     "data": {
      "text/plain": [
       "0.8947368421052632"
      ]
     },
     "execution_count": 13,
     "metadata": {},
     "output_type": "execute_result"
    }
   ],
   "source": [
    "gc.score(x_test,y_test)"
   ]
  },
  {
   "cell_type": "code",
   "execution_count": 14,
   "metadata": {},
   "outputs": [
    {
     "data": {
      "text/plain": [
       "0.9553571428571429"
      ]
     },
     "execution_count": 14,
     "metadata": {},
     "output_type": "execute_result"
    }
   ],
   "source": [
    "gc.best_score_"
   ]
  },
  {
   "cell_type": "code",
   "execution_count": 15,
   "metadata": {},
   "outputs": [
    {
     "data": {
      "text/plain": [
       "KNeighborsClassifier(algorithm='auto', leaf_size=30, metric='minkowski',\n",
       "           metric_params=None, n_jobs=None, n_neighbors=3, p=2,\n",
       "           weights='uniform')"
      ]
     },
     "execution_count": 15,
     "metadata": {},
     "output_type": "execute_result"
    }
   ],
   "source": [
    "gc.best_estimator_"
   ]
  },
  {
   "cell_type": "code",
   "execution_count": 16,
   "metadata": {},
   "outputs": [
    {
     "name": "stderr",
     "output_type": "stream",
     "text": [
      "d:\\Anaconda3\\lib\\site-packages\\sklearn\\utils\\deprecation.py:125: FutureWarning: You are accessing a training score ('split0_train_score'), which will not be available by default any more in 0.21. If you need training scores, please set return_train_score=True\n",
      "  warnings.warn(*warn_args, **warn_kwargs)\n",
      "d:\\Anaconda3\\lib\\site-packages\\sklearn\\utils\\deprecation.py:125: FutureWarning: You are accessing a training score ('split1_train_score'), which will not be available by default any more in 0.21. If you need training scores, please set return_train_score=True\n",
      "  warnings.warn(*warn_args, **warn_kwargs)\n",
      "d:\\Anaconda3\\lib\\site-packages\\sklearn\\utils\\deprecation.py:125: FutureWarning: You are accessing a training score ('split2_train_score'), which will not be available by default any more in 0.21. If you need training scores, please set return_train_score=True\n",
      "  warnings.warn(*warn_args, **warn_kwargs)\n",
      "d:\\Anaconda3\\lib\\site-packages\\sklearn\\utils\\deprecation.py:125: FutureWarning: You are accessing a training score ('split3_train_score'), which will not be available by default any more in 0.21. If you need training scores, please set return_train_score=True\n",
      "  warnings.warn(*warn_args, **warn_kwargs)\n",
      "d:\\Anaconda3\\lib\\site-packages\\sklearn\\utils\\deprecation.py:125: FutureWarning: You are accessing a training score ('split4_train_score'), which will not be available by default any more in 0.21. If you need training scores, please set return_train_score=True\n",
      "  warnings.warn(*warn_args, **warn_kwargs)\n",
      "d:\\Anaconda3\\lib\\site-packages\\sklearn\\utils\\deprecation.py:125: FutureWarning: You are accessing a training score ('split5_train_score'), which will not be available by default any more in 0.21. If you need training scores, please set return_train_score=True\n",
      "  warnings.warn(*warn_args, **warn_kwargs)\n",
      "d:\\Anaconda3\\lib\\site-packages\\sklearn\\utils\\deprecation.py:125: FutureWarning: You are accessing a training score ('split6_train_score'), which will not be available by default any more in 0.21. If you need training scores, please set return_train_score=True\n",
      "  warnings.warn(*warn_args, **warn_kwargs)\n",
      "d:\\Anaconda3\\lib\\site-packages\\sklearn\\utils\\deprecation.py:125: FutureWarning: You are accessing a training score ('split7_train_score'), which will not be available by default any more in 0.21. If you need training scores, please set return_train_score=True\n",
      "  warnings.warn(*warn_args, **warn_kwargs)\n",
      "d:\\Anaconda3\\lib\\site-packages\\sklearn\\utils\\deprecation.py:125: FutureWarning: You are accessing a training score ('split8_train_score'), which will not be available by default any more in 0.21. If you need training scores, please set return_train_score=True\n",
      "  warnings.warn(*warn_args, **warn_kwargs)\n",
      "d:\\Anaconda3\\lib\\site-packages\\sklearn\\utils\\deprecation.py:125: FutureWarning: You are accessing a training score ('split9_train_score'), which will not be available by default any more in 0.21. If you need training scores, please set return_train_score=True\n",
      "  warnings.warn(*warn_args, **warn_kwargs)\n",
      "d:\\Anaconda3\\lib\\site-packages\\sklearn\\utils\\deprecation.py:125: FutureWarning: You are accessing a training score ('mean_train_score'), which will not be available by default any more in 0.21. If you need training scores, please set return_train_score=True\n",
      "  warnings.warn(*warn_args, **warn_kwargs)\n",
      "d:\\Anaconda3\\lib\\site-packages\\sklearn\\utils\\deprecation.py:125: FutureWarning: You are accessing a training score ('std_train_score'), which will not be available by default any more in 0.21. If you need training scores, please set return_train_score=True\n",
      "  warnings.warn(*warn_args, **warn_kwargs)\n"
     ]
    },
    {
     "data": {
      "text/plain": [
       "{'mean_fit_time': array([0.00019894, 0.        , 0.00029943, 0.00030041, 0.        ,\n",
       "        0.00039985, 0.00060029, 0.00059965, 0.00019989, 0.00039997]),\n",
       " 'std_fit_time': array([0.00039788, 0.        , 0.00045739, 0.00045888, 0.        ,\n",
       "        0.00048972, 0.00091774, 0.00048961, 0.00039978, 0.00048986]),\n",
       " 'mean_score_time': array([0.00070093, 0.00129852, 0.00079949, 0.00079875, 0.00099964,\n",
       "        0.00070012, 0.00089886, 0.00090075, 0.00089943, 0.00109935]),\n",
       " 'std_score_time': array([0.00045887, 0.00064047, 0.00039974, 0.00039938, 0.00044702,\n",
       "        0.00045834, 0.00083036, 0.0005385 , 0.00053852, 0.00053827]),\n",
       " 'param_n_neighbors': masked_array(data=[1, 2, 3, 4, 5, 6, 7, 8, 9, 10],\n",
       "              mask=[False, False, False, False, False, False, False, False,\n",
       "                    False, False],\n",
       "        fill_value='?',\n",
       "             dtype=object),\n",
       " 'params': [{'n_neighbors': 1},\n",
       "  {'n_neighbors': 2},\n",
       "  {'n_neighbors': 3},\n",
       "  {'n_neighbors': 4},\n",
       "  {'n_neighbors': 5},\n",
       "  {'n_neighbors': 6},\n",
       "  {'n_neighbors': 7},\n",
       "  {'n_neighbors': 8},\n",
       "  {'n_neighbors': 9},\n",
       "  {'n_neighbors': 10}],\n",
       " 'split0_test_score': array([0.83333333, 0.83333333, 0.91666667, 0.83333333, 0.91666667,\n",
       "        0.91666667, 0.91666667, 0.91666667, 0.91666667, 0.91666667]),\n",
       " 'split1_test_score': array([0.91666667, 1.        , 1.        , 1.        , 1.        ,\n",
       "        1.        , 1.        , 1.        , 1.        , 1.        ]),\n",
       " 'split2_test_score': array([1., 1., 1., 1., 1., 1., 1., 1., 1., 1.]),\n",
       " 'split3_test_score': array([1.        , 0.91666667, 0.91666667, 0.91666667, 0.91666667,\n",
       "        0.91666667, 0.91666667, 0.91666667, 0.91666667, 0.91666667]),\n",
       " 'split4_test_score': array([0.83333333, 0.83333333, 0.91666667, 0.83333333, 0.83333333,\n",
       "        0.75      , 0.83333333, 0.75      , 0.83333333, 0.83333333]),\n",
       " 'split5_test_score': array([1.        , 0.90909091, 0.90909091, 0.90909091, 1.        ,\n",
       "        1.        , 1.        , 1.        , 1.        , 1.        ]),\n",
       " 'split6_test_score': array([1., 1., 1., 1., 1., 1., 1., 1., 1., 1.]),\n",
       " 'split7_test_score': array([1., 1., 1., 1., 1., 1., 1., 1., 1., 1.]),\n",
       " 'split8_test_score': array([1., 1., 1., 1., 1., 1., 1., 1., 1., 1.]),\n",
       " 'split9_test_score': array([0.9, 0.9, 0.9, 0.9, 0.9, 0.9, 0.9, 0.9, 0.9, 0.9]),\n",
       " 'mean_test_score': array([0.94642857, 0.9375    , 0.95535714, 0.9375    , 0.95535714,\n",
       "        0.94642857, 0.95535714, 0.94642857, 0.95535714, 0.95535714]),\n",
       " 'std_test_score': array([0.0686978 , 0.0670427 , 0.04408745, 0.0670427 , 0.05800136,\n",
       "        0.07878758, 0.05800136, 0.07878758, 0.05800136, 0.05800136]),\n",
       " 'rank_test_score': array([6, 9, 1, 9, 1, 6, 1, 6, 1, 1]),\n",
       " 'split0_train_score': array([1.  , 0.98, 0.98, 0.96, 0.98, 0.96, 0.96, 0.96, 0.97, 0.96]),\n",
       " 'split1_train_score': array([1.  , 0.97, 0.96, 0.94, 0.97, 0.94, 0.95, 0.95, 0.96, 0.95]),\n",
       " 'split2_train_score': array([1.  , 0.97, 0.97, 0.94, 0.96, 0.94, 0.95, 0.95, 0.95, 0.96]),\n",
       " 'split3_train_score': array([1.  , 0.98, 0.96, 0.95, 0.95, 0.95, 0.96, 0.96, 0.95, 0.96]),\n",
       " 'split4_train_score': array([1.  , 0.98, 0.98, 0.96, 0.97, 0.97, 0.97, 0.97, 0.97, 0.97]),\n",
       " 'split5_train_score': array([1.        , 0.97029703, 0.96039604, 0.95049505, 0.96039604,\n",
       "        0.95049505, 0.96039604, 0.96039604, 0.95049505, 0.95049505]),\n",
       " 'split6_train_score': array([1.        , 0.96039604, 0.94059406, 0.94059406, 0.95049505,\n",
       "        0.94059406, 0.95049505, 0.95049505, 0.95049505, 0.96039604]),\n",
       " 'split7_train_score': array([1.        , 0.97058824, 0.97058824, 0.94117647, 0.96078431,\n",
       "        0.94117647, 0.95098039, 0.95098039, 0.95098039, 0.95098039]),\n",
       " 'split8_train_score': array([1.        , 0.97058824, 0.96078431, 0.94117647, 0.96078431,\n",
       "        0.94117647, 0.95098039, 0.95098039, 0.95098039, 0.95098039]),\n",
       " 'split9_train_score': array([1.        , 0.98039216, 0.97058824, 0.95098039, 0.97058824,\n",
       "        0.95098039, 0.96078431, 0.96078431, 0.97058824, 0.96078431]),\n",
       " 'mean_train_score': array([1.        , 0.97322617, 0.96529509, 0.94744224, 0.9633048 ,\n",
       "        0.94844224, 0.95636362, 0.95636362, 0.95735391, 0.95736362]),\n",
       " 'std_train_score': array([0.        , 0.00630025, 0.01105081, 0.00761555, 0.00891418,\n",
       "        0.00959751, 0.006493  , 0.006493  , 0.00886277, 0.00619934])}"
      ]
     },
     "execution_count": 16,
     "metadata": {},
     "output_type": "execute_result"
    }
   ],
   "source": [
    "gc.cv_results_"
   ]
  },
  {
   "cell_type": "code",
   "execution_count": null,
   "metadata": {},
   "outputs": [],
   "source": []
  },
  {
   "cell_type": "code",
   "execution_count": null,
   "metadata": {},
   "outputs": [],
   "source": []
  },
  {
   "cell_type": "code",
   "execution_count": null,
   "metadata": {},
   "outputs": [],
   "source": []
  },
  {
   "cell_type": "code",
   "execution_count": null,
   "metadata": {},
   "outputs": [],
   "source": []
  },
  {
   "cell_type": "code",
   "execution_count": null,
   "metadata": {},
   "outputs": [],
   "source": []
  },
  {
   "cell_type": "code",
   "execution_count": null,
   "metadata": {},
   "outputs": [],
   "source": []
  },
  {
   "cell_type": "code",
   "execution_count": null,
   "metadata": {},
   "outputs": [],
   "source": []
  }
 ],
 "metadata": {
  "kernelspec": {
   "display_name": "Python 3",
   "language": "python",
   "name": "python3"
  },
  "language_info": {
   "codemirror_mode": {
    "name": "ipython",
    "version": 3
   },
   "file_extension": ".py",
   "mimetype": "text/x-python",
   "name": "python",
   "nbconvert_exporter": "python",
   "pygments_lexer": "ipython3",
   "version": "3.6.6"
  }
 },
 "nbformat": 4,
 "nbformat_minor": 2
}
